{
 "cells": [
  {
   "cell_type": "code",
   "execution_count": 6,
   "metadata": {},
   "outputs": [],
   "source": [
    "import numpy as np; \n",
    "import pandas as pd; \n",
    "import matplotlib.pyplot as plt; \n",
    "import seaborn as sns; \n",
    "from dateutil import parser;"
   ]
  },
  {
   "cell_type": "code",
   "execution_count": 8,
   "metadata": {},
   "outputs": [
    {
     "name": "stdout",
     "output_type": "stream",
     "text": [
      "         user               first_open  dayofweek       hour  age  \\\n",
      "0      235136  2012-12-27 02:14:51.273          3   02:00:00   23   \n",
      "1      333588  2012-12-02 01:16:00.905          6   01:00:00   24   \n",
      "2      254414  2013-03-19 19:19:09.157          1   19:00:00   23   \n",
      "3      234192  2013-07-05 16:08:46.354          4   16:00:00   28   \n",
      "4       51549  2013-02-26 18:50:48.661          1   18:00:00   31   \n",
      "...       ...                      ...        ...        ...  ...   \n",
      "49995  222774  2013-05-09 13:46:17.871          3   13:00:00   32   \n",
      "49996  169179  2013-04-09 00:05:17.823          1   00:00:00   35   \n",
      "49997  302367  2013-02-20 22:41:51.165          2   22:00:00   39   \n",
      "49998  324905  2013-04-28 12:33:04.288          6   12:00:00   27   \n",
      "49999   27047  2012-12-14 01:22:44.638          4   01:00:00   25   \n",
      "\n",
      "                                             screen_list  numscreens  \\\n",
      "0      idscreen,joinscreen,Cycle,product_review,ScanP...          15   \n",
      "1      joinscreen,product_review,product_review2,Scan...          13   \n",
      "2                                      Splash,Cycle,Loan           3   \n",
      "3      product_review,Home,product_review,Loan3,Finan...          40   \n",
      "4      idscreen,joinscreen,Cycle,Credit3Container,Sca...          32   \n",
      "...                                                  ...         ...   \n",
      "49995  Splash,Home,ScanPreview,VerifyPhone,VerifySSN,...          13   \n",
      "49996                 Cycle,Splash,Home,RewardsContainer           4   \n",
      "49997  joinscreen,product_review,product_review2,Scan...          25   \n",
      "49998  Cycle,Home,product_review,product_review,produ...          26   \n",
      "49999  product_review,ScanPreview,VerifyDateOfBirth,V...          26   \n",
      "\n",
      "       minigame  used_premium_feature  enrolled            enrolled_date  \\\n",
      "0             0                     0         0                      NaN   \n",
      "1             0                     0         0                      NaN   \n",
      "2             0                     1         0                      NaN   \n",
      "3             0                     0         1  2013-07-05 16:11:49.513   \n",
      "4             0                     0         1  2013-02-26 18:56:37.841   \n",
      "...         ...                   ...       ...                      ...   \n",
      "49995         0                     0         1  2013-05-09 13:47:52.875   \n",
      "49996         0                     1         0                      NaN   \n",
      "49997         0                     0         0                      NaN   \n",
      "49998         0                     0         1  2013-04-28 12:35:38.709   \n",
      "49999         0                     0         0                      NaN   \n",
      "\n",
      "       liked  \n",
      "0          0  \n",
      "1          0  \n",
      "2          1  \n",
      "3          0  \n",
      "4          1  \n",
      "...      ...  \n",
      "49995      0  \n",
      "49996      0  \n",
      "49997      0  \n",
      "49998      0  \n",
      "49999      1  \n",
      "\n",
      "[50000 rows x 12 columns]\n"
     ]
    }
   ],
   "source": [
    "#importing data\n",
    "fineTech_appData = pd.read_csv(\"FineTech_appData.csv\");\n",
    "print(fineTech_appData);"
   ]
  },
  {
   "cell_type": "code",
   "execution_count": 9,
   "metadata": {},
   "outputs": [
    {
     "name": "stdout",
     "output_type": "stream",
     "text": [
      "no of row: 50000\n",
      "no of column: 12\n"
     ]
    }
   ],
   "source": [
    "shape_result=fineTech_appData.shape;\n",
    "print(\"no of row:\",shape_result[0]);\n",
    "print(\"no of column:\",shape_result[1]);"
   ]
  },
  {
   "cell_type": "code",
   "execution_count": 16,
   "metadata": {},
   "outputs": [],
   "source": [
    "#print top 5 row\n",
    "fineTech_appData.head(5); "
   ]
  },
  {
   "cell_type": "code",
   "execution_count": 17,
   "metadata": {},
   "outputs": [],
   "source": [
    "#print bottom 5 row\n",
    "fineTech_appData.tail(5);"
   ]
  },
  {
   "cell_type": "code",
   "execution_count": 19,
   "metadata": {
    "scrolled": true
   },
   "outputs": [
    {
     "name": "stdout",
     "output_type": "stream",
     "text": [
      "user                        0\n",
      "first_open                  0\n",
      "dayofweek                   0\n",
      "hour                        0\n",
      "age                         0\n",
      "screen_list                 0\n",
      "numscreens                  0\n",
      "minigame                    0\n",
      "used_premium_feature        0\n",
      "enrolled                    0\n",
      "enrolled_date           18926\n",
      "liked                       0\n",
      "dtype: int64\n"
     ]
    }
   ],
   "source": [
    "#checking null datavalue in dataframe\n",
    "print(fineTech_appData.isnull().sum());"
   ]
  },
  {
   "cell_type": "code",
   "execution_count": 20,
   "metadata": {
    "scrolled": true
   },
   "outputs": [
    {
     "name": "stdout",
     "output_type": "stream",
     "text": [
      "<class 'pandas.core.frame.DataFrame'>\n",
      "RangeIndex: 50000 entries, 0 to 49999\n",
      "Data columns (total 12 columns):\n",
      " #   Column                Non-Null Count  Dtype \n",
      "---  ------                --------------  ----- \n",
      " 0   user                  50000 non-null  int64 \n",
      " 1   first_open            50000 non-null  object\n",
      " 2   dayofweek             50000 non-null  int64 \n",
      " 3   hour                  50000 non-null  object\n",
      " 4   age                   50000 non-null  int64 \n",
      " 5   screen_list           50000 non-null  object\n",
      " 6   numscreens            50000 non-null  int64 \n",
      " 7   minigame              50000 non-null  int64 \n",
      " 8   used_premium_feature  50000 non-null  int64 \n",
      " 9   enrolled              50000 non-null  int64 \n",
      " 10  enrolled_date         31074 non-null  object\n",
      " 11  liked                 50000 non-null  int64 \n",
      "dtypes: int64(8), object(4)\n",
      "memory usage: 4.6+ MB\n"
     ]
    }
   ],
   "source": [
    "#brief information about dataset\n",
    "fineTech_appData.info();"
   ]
  },
  {
   "cell_type": "code",
   "execution_count": 21,
   "metadata": {
    "scrolled": true
   },
   "outputs": [],
   "source": [
    "#provide the distribution of numerical variables \n",
    "fineTech_appData.describe();"
   ]
  }
 ],
 "metadata": {
  "kernelspec": {
   "display_name": "Python 3 (ipykernel)",
   "language": "python",
   "name": "python3"
  },
  "language_info": {
   "codemirror_mode": {
    "name": "ipython",
    "version": 3
   },
   "file_extension": ".py",
   "mimetype": "text/x-python",
   "name": "python",
   "nbconvert_exporter": "python",
   "pygments_lexer": "ipython3",
   "version": "3.11.8"
  }
 },
 "nbformat": 4,
 "nbformat_minor": 4
}
